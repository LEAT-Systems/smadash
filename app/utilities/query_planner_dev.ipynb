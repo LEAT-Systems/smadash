{
  "nbformat": 4,
  "nbformat_minor": 0,
  "metadata": {
    "colab": {
      "provenance": []
    },
    "kernelspec": {
      "name": "python3",
      "display_name": "Python 3"
    },
    "language_info": {
      "name": "python"
    }
  },
  "cells": [
    {
      "cell_type": "code",
      "source": [
        "pip install openai"
      ],
      "metadata": {
        "colab": {
          "base_uri": "https://localhost:8080/"
        },
        "id": "Pkm0ftf8a3bp",
        "outputId": "87bb8bcb-1088-4022-9506-2f56eaae8efe"
      },
      "execution_count": 1,
      "outputs": [
        {
          "output_type": "stream",
          "name": "stdout",
          "text": [
            "Requirement already satisfied: openai in /usr/local/lib/python3.12/dist-packages (1.101.0)\n",
            "Requirement already satisfied: anyio<5,>=3.5.0 in /usr/local/lib/python3.12/dist-packages (from openai) (4.10.0)\n",
            "Requirement already satisfied: distro<2,>=1.7.0 in /usr/local/lib/python3.12/dist-packages (from openai) (1.9.0)\n",
            "Requirement already satisfied: httpx<1,>=0.23.0 in /usr/local/lib/python3.12/dist-packages (from openai) (0.28.1)\n",
            "Requirement already satisfied: jiter<1,>=0.4.0 in /usr/local/lib/python3.12/dist-packages (from openai) (0.10.0)\n",
            "Requirement already satisfied: pydantic<3,>=1.9.0 in /usr/local/lib/python3.12/dist-packages (from openai) (2.11.7)\n",
            "Requirement already satisfied: sniffio in /usr/local/lib/python3.12/dist-packages (from openai) (1.3.1)\n",
            "Requirement already satisfied: tqdm>4 in /usr/local/lib/python3.12/dist-packages (from openai) (4.67.1)\n",
            "Requirement already satisfied: typing-extensions<5,>=4.11 in /usr/local/lib/python3.12/dist-packages (from openai) (4.15.0)\n",
            "Requirement already satisfied: idna>=2.8 in /usr/local/lib/python3.12/dist-packages (from anyio<5,>=3.5.0->openai) (3.10)\n",
            "Requirement already satisfied: certifi in /usr/local/lib/python3.12/dist-packages (from httpx<1,>=0.23.0->openai) (2025.8.3)\n",
            "Requirement already satisfied: httpcore==1.* in /usr/local/lib/python3.12/dist-packages (from httpx<1,>=0.23.0->openai) (1.0.9)\n",
            "Requirement already satisfied: h11>=0.16 in /usr/local/lib/python3.12/dist-packages (from httpcore==1.*->httpx<1,>=0.23.0->openai) (0.16.0)\n",
            "Requirement already satisfied: annotated-types>=0.6.0 in /usr/local/lib/python3.12/dist-packages (from pydantic<3,>=1.9.0->openai) (0.7.0)\n",
            "Requirement already satisfied: pydantic-core==2.33.2 in /usr/local/lib/python3.12/dist-packages (from pydantic<3,>=1.9.0->openai) (2.33.2)\n",
            "Requirement already satisfied: typing-inspection>=0.4.0 in /usr/local/lib/python3.12/dist-packages (from pydantic<3,>=1.9.0->openai) (0.4.1)\n"
          ]
        }
      ]
    },
    {
      "cell_type": "code",
      "execution_count": 2,
      "metadata": {
        "id": "d1WKREiRTlS-"
      },
      "outputs": [],
      "source": [
        "import re\n",
        "import pandas as pd\n",
        "from collections import defaultdict\n",
        "from datetime import datetime\n",
        "from typing import Dict, List\n",
        "from pprint import pprint\n",
        "from openai import OpenAI\n",
        "import os\n",
        "import json\n",
        "\n",
        "from pprint import pprint"
      ]
    },
    {
      "cell_type": "code",
      "source": [
        "from google.colab import userdata\n",
        "import os\n",
        "from openai import OpenAI\n",
        "\n",
        "# Access the API key from Colab's Secrets Manager\n",
        "client = OpenAI(\n",
        "  api_key=userdata.get('OPENAI_API_KEY')\n",
        ")"
      ],
      "metadata": {
        "id": "RA8U06AKbAc1"
      },
      "execution_count": 3,
      "outputs": []
    },
    {
      "cell_type": "code",
      "source": [
        "with open(\"db_schema_moc.json\", \"r\") as schema:\n",
        "    db_schema = schema.read()"
      ],
      "metadata": {
        "id": "ra3lwS1_HrQP"
      },
      "execution_count": 4,
      "outputs": []
    },
    {
      "cell_type": "markdown",
      "source": [
        "If using a csv schema, uncomment the block of code below"
      ],
      "metadata": {
        "id": "SpQoAB21LFp_"
      }
    },
    {
      "cell_type": "code",
      "source": [
        "# # Load the schema CSV\n",
        "# df = pd.read_csv(\"pg_schema.csv\")\n",
        "\n",
        "# # Organize by table\n",
        "# schema_dict = defaultdict(list)\n",
        "# for _, row in df.iterrows():\n",
        "#     schema_dict[row[\"table_name\"]].append((row[\"column_name\"], row[\"data_type\"]))\n",
        "\n",
        "# # Format as plain text\n",
        "# formatted_schema = []\n",
        "# for table, columns in schema_dict.items():\n",
        "#     formatted_schema.append(f\"Table: {table}\")\n",
        "#     for col, dtype in columns:\n",
        "#         formatted_schema.append(f\"- {col} ({dtype})\")\n",
        "#     formatted_schema.append(\"\")\n",
        "\n",
        "# # Join into final string for LLM\n",
        "# db_schema = \"\\n\".join(formatted_schema)\n",
        "# print(db_schema)\n"
      ],
      "metadata": {
        "id": "IUHva17Weu6F"
      },
      "execution_count": 5,
      "outputs": []
    },
    {
      "cell_type": "code",
      "source": [
        "dialect = \"SQLite3\""
      ],
      "metadata": {
        "id": "aj9AjwlEQWpl"
      },
      "execution_count": 11,
      "outputs": []
    },
    {
      "cell_type": "code",
      "source": [
        "SYSTEM_PROMPT = f\"\"\"\n",
        "You are a query planner assistant and builder. Your job is to:\n",
        "1. Convert a user's natural language request into a structured query plan (JSON)\n",
        "2. Generate a valid SQL SELECT statement based on that plan\n",
        "\n",
        "Use the following database schema:\n",
        "{db_schema}\n",
        "\n",
        "You must support the following operators:\n",
        "- \"=\" for exact match (e.g., field = 'value')\n",
        "- \"between\" for range filters (e.g., dates or numeric ranges)\n",
        "- \"like\" for partial matches (e.g., names or categories)\n",
        "- \">\" and \"<\" for comparisons\n",
        "\n",
        "Use this strict JSON format:\n",
        "{{\n",
        "  \"query_plan\": {{\n",
        "    \"intent\": \"ranking\" | \"trend\" | \"filter\" | \"comparison\",\n",
        "    \"table\": \"sales_data\",\n",
        "    \"filters\": [ {{ \"field\": ..., \"operator\": ..., \"value\": ... }} ],\n",
        "    \"metrics\": [ {{ \"name\": ..., \"aggregation\": ..., \"alias\": ... }} ],\n",
        "    \"group_by\": [...],\n",
        "    \"sort\": [ {{ \"field\": ..., \"order\": \"asc\" | \"desc\" }} ],\n",
        "    \"limit\": ...,\n",
        "    \"original_user_query\": ...\n",
        "  }},\n",
        "  \"sql\": \"SELECT ... FROM ...\"\n",
        "}}\n",
        "\n",
        "Additional instructions:\n",
        "- The SQL must be valid for {dialect}. Use {dialect}-specific syntax, data types, and functions where appropriate.\n",
        "- If using the \"between\" operator, the value must be a 2-element array: [start, end]\n",
        "- If using the \"like\" operator, wrap the value in % signs for partial match (e.g., '%phone%')\n",
        "- Output must be valid JSON only\n",
        "- Use only tables and fields from the schema above\n",
        "- Output the SQL statement as one statement\n",
        "\n",
        "Only return valid JSON output.\n",
        "\"\"\"\n"
      ],
      "metadata": {
        "id": "ojEz1EZ-bKHD"
      },
      "execution_count": 12,
      "outputs": []
    },
    {
      "cell_type": "code",
      "source": [
        "def get_plan_and_sql(user_query: str) -> dict:\n",
        "    response = client.chat.completions.create(\n",
        "        model=\"gpt-3.5-turbo\",  # or gpt-3.5-turbo\n",
        "        messages=[\n",
        "            {\"role\": \"system\", \"content\": SYSTEM_PROMPT},\n",
        "            {\"role\": \"user\", \"content\": user_query}\n",
        "        ],\n",
        "        temperature=0.2\n",
        "    )\n",
        "    content = response.choices[0].message.content.strip()\n",
        "\n",
        "    try:\n",
        "        plan = json.loads(content)\n",
        "        return plan\n",
        "    except json.JSONDecodeError:\n",
        "        print(\"❌ Failed to parse LLM output as JSON.\")\n",
        "        print(content)\n",
        "        return {}"
      ],
      "metadata": {
        "id": "yG4u1mljbhO0"
      },
      "execution_count": 13,
      "outputs": []
    },
    {
      "cell_type": "code",
      "source": [
        "user_query = \"Show me the top 5 events with highest sales in Q2 2024\""
      ],
      "metadata": {
        "id": "FdgyXAk-TxqZ"
      },
      "execution_count": 14,
      "outputs": []
    },
    {
      "cell_type": "code",
      "source": [
        "user_query2 = \"Which venues in LA had the most events?\""
      ],
      "metadata": {
        "id": "shP1x3aYn3bj"
      },
      "execution_count": 17,
      "outputs": []
    },
    {
      "cell_type": "code",
      "source": [
        "plan = get_plan_and_sql(user_query)\n",
        "\n",
        "pprint(plan)"
      ],
      "metadata": {
        "colab": {
          "base_uri": "https://localhost:8080/"
        },
        "id": "7a1ZwmL7bpwy",
        "outputId": "6b7df5c8-0034-4b93-fcb3-6747bcbf5b81"
      },
      "execution_count": 21,
      "outputs": [
        {
          "output_type": "stream",
          "name": "stdout",
          "text": [
            "{'query_plan': {'filters': [{'field': 'event_date',\n",
            "                             'operator': 'between',\n",
            "                             'value': ['2024-04-01', '2024-06-30']}],\n",
            "                'group_by': ['event_id', 'event_name'],\n",
            "                'intent': 'ranking',\n",
            "                'limit': 5,\n",
            "                'metrics': [{'aggregation': 'sum',\n",
            "                             'alias': 'total_sales',\n",
            "                             'name': 'total_price'}],\n",
            "                'original_user_query': 'Show me the top 5 events with highest '\n",
            "                                       'sales in Q2 2024',\n",
            "                'sort': [{'field': 'total_sales', 'order': 'desc'}],\n",
            "                'table': 'Events'},\n",
            " 'sql': 'SELECT Events.event_id, Events.event_name, SUM(Sales.total_price) AS '\n",
            "        'total_sales FROM Events INNER JOIN Sales ON Events.event_id = '\n",
            "        \"Sales.event_id WHERE Events.event_date BETWEEN '2024-04-01' AND \"\n",
            "        \"'2024-06-30' GROUP BY Events.event_id, Events.event_name ORDER BY \"\n",
            "        'total_sales DESC LIMIT 5'}\n"
          ]
        }
      ]
    },
    {
      "cell_type": "code",
      "source": [
        "plan['sql']"
      ],
      "metadata": {
        "id": "0GSsBz_6JlDJ",
        "colab": {
          "base_uri": "https://localhost:8080/",
          "height": 53
        },
        "outputId": "54b67d9c-8d70-4739-d389-bcfef4d13b1d"
      },
      "execution_count": 22,
      "outputs": [
        {
          "output_type": "execute_result",
          "data": {
            "text/plain": [
              "\"SELECT Events.event_id, Events.event_name, SUM(Sales.total_price) AS total_sales FROM Events INNER JOIN Sales ON Events.event_id = Sales.event_id WHERE Events.event_date BETWEEN '2024-04-01' AND '2024-06-30' GROUP BY Events.event_id, Events.event_name ORDER BY total_sales DESC LIMIT 5\""
            ],
            "application/vnd.google.colaboratory.intrinsic+json": {
              "type": "string"
            }
          },
          "metadata": {},
          "execution_count": 22
        }
      ]
    },
    {
      "cell_type": "code",
      "source": [],
      "metadata": {
        "id": "zfZ2BF5TRYaE"
      },
      "execution_count": null,
      "outputs": []
    }
  ]
}