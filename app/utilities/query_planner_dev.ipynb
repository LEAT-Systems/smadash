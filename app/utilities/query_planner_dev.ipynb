{
  "nbformat": 4,
  "nbformat_minor": 0,
  "metadata": {
    "colab": {
      "provenance": []
    },
    "kernelspec": {
      "name": "python3",
      "display_name": "Python 3"
    },
    "language_info": {
      "name": "python"
    }
  },
  "cells": [
    {
      "cell_type": "code",
      "source": [
        "pip install openai"
      ],
      "metadata": {
        "colab": {
          "base_uri": "https://localhost:8080/"
        },
        "id": "Pkm0ftf8a3bp",
        "outputId": "6c5f4e74-9c87-4b54-bbc7-a427b68606df"
      },
      "execution_count": null,
      "outputs": [
        {
          "output_type": "stream",
          "name": "stdout",
          "text": [
            "Requirement already satisfied: openai in /usr/local/lib/python3.12/dist-packages (1.101.0)\n",
            "Requirement already satisfied: anyio<5,>=3.5.0 in /usr/local/lib/python3.12/dist-packages (from openai) (4.10.0)\n",
            "Requirement already satisfied: distro<2,>=1.7.0 in /usr/local/lib/python3.12/dist-packages (from openai) (1.9.0)\n",
            "Requirement already satisfied: httpx<1,>=0.23.0 in /usr/local/lib/python3.12/dist-packages (from openai) (0.28.1)\n",
            "Requirement already satisfied: jiter<1,>=0.4.0 in /usr/local/lib/python3.12/dist-packages (from openai) (0.10.0)\n",
            "Requirement already satisfied: pydantic<3,>=1.9.0 in /usr/local/lib/python3.12/dist-packages (from openai) (2.11.7)\n",
            "Requirement already satisfied: sniffio in /usr/local/lib/python3.12/dist-packages (from openai) (1.3.1)\n",
            "Requirement already satisfied: tqdm>4 in /usr/local/lib/python3.12/dist-packages (from openai) (4.67.1)\n",
            "Requirement already satisfied: typing-extensions<5,>=4.11 in /usr/local/lib/python3.12/dist-packages (from openai) (4.15.0)\n",
            "Requirement already satisfied: idna>=2.8 in /usr/local/lib/python3.12/dist-packages (from anyio<5,>=3.5.0->openai) (3.10)\n",
            "Requirement already satisfied: certifi in /usr/local/lib/python3.12/dist-packages (from httpx<1,>=0.23.0->openai) (2025.8.3)\n",
            "Requirement already satisfied: httpcore==1.* in /usr/local/lib/python3.12/dist-packages (from httpx<1,>=0.23.0->openai) (1.0.9)\n",
            "Requirement already satisfied: h11>=0.16 in /usr/local/lib/python3.12/dist-packages (from httpcore==1.*->httpx<1,>=0.23.0->openai) (0.16.0)\n",
            "Requirement already satisfied: annotated-types>=0.6.0 in /usr/local/lib/python3.12/dist-packages (from pydantic<3,>=1.9.0->openai) (0.7.0)\n",
            "Requirement already satisfied: pydantic-core==2.33.2 in /usr/local/lib/python3.12/dist-packages (from pydantic<3,>=1.9.0->openai) (2.33.2)\n",
            "Requirement already satisfied: typing-inspection>=0.4.0 in /usr/local/lib/python3.12/dist-packages (from pydantic<3,>=1.9.0->openai) (0.4.1)\n"
          ]
        }
      ]
    },
    {
      "cell_type": "code",
      "execution_count": null,
      "metadata": {
        "id": "d1WKREiRTlS-"
      },
      "outputs": [],
      "source": [
        "import re\n",
        "import pandas as pd\n",
        "from collections import defaultdict\n",
        "from datetime import datetime\n",
        "from typing import Dict, List\n",
        "from pprint import pprint\n",
        "from openai import OpenAI\n",
        "import os\n",
        "import json\n",
        "\n",
        "from pprint import pprint"
      ]
    },
    {
      "cell_type": "code",
      "source": [
        "from google.colab import userdata\n",
        "import os\n",
        "from openai import OpenAI\n",
        "\n",
        "# Access the API key from Colab's Secrets Manager\n",
        "client = OpenAI(\n",
        "  api_key=userdata.get('OPENAI_API_KEY')\n",
        ")"
      ],
      "metadata": {
        "id": "RA8U06AKbAc1"
      },
      "execution_count": null,
      "outputs": []
    },
    {
      "cell_type": "code",
      "source": [
        "# with open(\"db_schema_moc.json\", \"r\") as schema:\n",
        "#     db_schema = schema.read()"
      ],
      "metadata": {
        "id": "ra3lwS1_HrQP"
      },
      "execution_count": null,
      "outputs": []
    },
    {
      "cell_type": "code",
      "source": [
        "# Load the schema CSV\n",
        "df = pd.read_csv(\"pg_schema.csv\")\n",
        "\n",
        "# Organize by table\n",
        "schema_dict = defaultdict(list)\n",
        "for _, row in df.iterrows():\n",
        "    schema_dict[row[\"table_name\"]].append((row[\"column_name\"], row[\"data_type\"]))\n",
        "\n",
        "# Format as plain text\n",
        "formatted_schema = []\n",
        "for table, columns in schema_dict.items():\n",
        "    formatted_schema.append(f\"Table: {table}\")\n",
        "    for col, dtype in columns:\n",
        "        formatted_schema.append(f\"- {col} ({dtype})\")\n",
        "    formatted_schema.append(\"\")\n",
        "\n",
        "# Join into final string for LLM\n",
        "db_schema = \"\\n\".join(formatted_schema)\n",
        "print(db_schema)\n"
      ],
      "metadata": {
        "colab": {
          "base_uri": "https://localhost:8080/"
        },
        "id": "IUHva17Weu6F",
        "outputId": "52ebfd5a-d221-4d06-8c1d-754f3ea244e9"
      },
      "execution_count": 31,
      "outputs": [
        {
          "output_type": "stream",
          "name": "stdout",
          "text": [
            "Table: customers\n",
            "- id (integer)\n",
            "- name (text)\n",
            "- region (text)\n",
            "\n",
            "Table: employees\n",
            "- id (integer)\n",
            "- name (text)\n",
            "- role (text)\n",
            "- store_id (integer)\n",
            "\n",
            "Table: products\n",
            "- id (integer)\n",
            "- name (text)\n",
            "- category (text)\n",
            "\n",
            "Table: sales_data\n",
            "- id (integer)\n",
            "- product_id (integer)\n",
            "- customer_id (integer)\n",
            "- store_id (integer)\n",
            "- employee_id (integer)\n",
            "- sale_date (date)\n",
            "- quantity (integer)\n",
            "- unit_price (numeric)\n",
            "\n",
            "Table: stores\n",
            "- id (integer)\n",
            "- name (text)\n",
            "- city (text)\n",
            "- country (text)\n",
            "\n"
          ]
        }
      ]
    },
    {
      "cell_type": "code",
      "source": [
        "SYSTEM_PROMPT = f\"\"\"\n",
        "You are a query planner assistant and builder. Your job is to:\n",
        "1. Convert a user's natural language request into a structured query plan (JSON)\n",
        "2. Generate a valid SQL SELECT statement based on that plan\n",
        "\n",
        "Use the following database schema:\n",
        "{db_schema}\n",
        "\n",
        "You must support the following operators:\n",
        "- \"=\" for exact match (e.g., field = 'value')\n",
        "- \"between\" for range filters (e.g., dates or numeric ranges)\n",
        "- \"like\" for partial matches (e.g., names or categories)\n",
        "- \">\" and \"<\" for comparisons\n",
        "\n",
        "Use this strict JSON format:\n",
        "{{\n",
        "  \"query_plan\": {{\n",
        "    \"intent\": \"ranking\" | \"trend\" | \"filter\" | \"comparison\",\n",
        "    \"table\": \"sales_data\",\n",
        "    \"filters\": [ {{ \"field\": ..., \"operator\": ..., \"value\": ... }} ],\n",
        "    \"metrics\": [ {{ \"name\": ..., \"aggregation\": ..., \"alias\": ... }} ],\n",
        "    \"group_by\": [...],\n",
        "    \"sort\": [ {{ \"field\": ..., \"order\": \"asc\" | \"desc\" }} ],\n",
        "    \"limit\": ...,\n",
        "    \"original_user_query\": ...\n",
        "  }},\n",
        "  \"sql\": \"SELECT ... FROM ...\"\n",
        "}}\n",
        "\n",
        "Additional instructions:\n",
        "- The SQL must be valid PostgreSQL. Use PostgreSQL-specific syntax, data types, and functions where appropriate.\n",
        "- If using the \"between\" operator, the value must be a 2-element array: [start, end]\n",
        "- If using the \"like\" operator, wrap the value in % signs for partial match (e.g., '%phone%')\n",
        "- Output must be valid JSON only\n",
        "- Use only tables and fields from the schema above\n",
        "\n",
        "Only return valid JSON output.\n",
        "\"\"\"\n"
      ],
      "metadata": {
        "id": "ojEz1EZ-bKHD"
      },
      "execution_count": 41,
      "outputs": []
    },
    {
      "cell_type": "code",
      "source": [
        "def get_plan_and_sql(user_query: str) -> dict:\n",
        "    response = client.chat.completions.create(\n",
        "        model=\"gpt-3.5-turbo\",  # or gpt-3.5-turbo\n",
        "        messages=[\n",
        "            {\"role\": \"system\", \"content\": SYSTEM_PROMPT},\n",
        "            {\"role\": \"user\", \"content\": user_query}\n",
        "        ],\n",
        "        temperature=0.2\n",
        "    )\n",
        "    content = response.choices[0].message.content.strip()\n",
        "\n",
        "    try:\n",
        "        plan = json.loads(content)\n",
        "        return plan\n",
        "    except json.JSONDecodeError:\n",
        "        print(\"❌ Failed to parse LLM output as JSON.\")\n",
        "        print(content)\n",
        "        return {}"
      ],
      "metadata": {
        "id": "yG4u1mljbhO0"
      },
      "execution_count": 42,
      "outputs": []
    },
    {
      "cell_type": "code",
      "source": [
        "user_query = \"Show me the top 5 events with highest sales in Q2 2024\""
      ],
      "metadata": {
        "id": "FdgyXAk-TxqZ"
      },
      "execution_count": 47,
      "outputs": []
    },
    {
      "cell_type": "code",
      "source": [
        "plan = get_plan_and_sql(user_query)\n",
        "\n",
        "pprint(plan)"
      ],
      "metadata": {
        "colab": {
          "base_uri": "https://localhost:8080/"
        },
        "id": "7a1ZwmL7bpwy",
        "outputId": "e081e0d3-9893-4b8e-9aff-a73cedc933ac"
      },
      "execution_count": 48,
      "outputs": [
        {
          "output_type": "stream",
          "name": "stdout",
          "text": [
            "{'query_plan': {'filters': [{'field': 'sale_date',\n",
            "                             'operator': 'between',\n",
            "                             'value': ['2024-04-01', '2024-06-30']}],\n",
            "                'group_by': ['product_id'],\n",
            "                'intent': 'ranking',\n",
            "                'limit': 5,\n",
            "                'metrics': [{'aggregation': 'sum',\n",
            "                             'alias': 'total_sales',\n",
            "                             'name': 'quantity'}],\n",
            "                'original_user_query': 'Show me the top 5 events with highest '\n",
            "                                       'sales in Q2 2024',\n",
            "                'sort': [{'field': 'total_sales', 'order': 'desc'}],\n",
            "                'table': 'sales_data'},\n",
            " 'sql': 'SELECT product_id, SUM(quantity) AS total_sales FROM sales_data WHERE '\n",
            "        \"sale_date BETWEEN '2024-04-01' AND '2024-06-30' GROUP BY product_id \"\n",
            "        'ORDER BY total_sales DESC LIMIT 5'}\n"
          ]
        }
      ]
    },
    {
      "cell_type": "code",
      "source": [],
      "metadata": {
        "id": "0GSsBz_6JlDJ"
      },
      "execution_count": 40,
      "outputs": []
    }
  ]
}