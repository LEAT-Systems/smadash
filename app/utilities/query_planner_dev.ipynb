{
  "nbformat": 4,
  "nbformat_minor": 0,
  "metadata": {
    "colab": {
      "provenance": []
    },
    "kernelspec": {
      "name": "python3",
      "display_name": "Python 3"
    },
    "language_info": {
      "name": "python"
    }
  },
  "cells": [
    {
      "cell_type": "code",
      "source": [
        "pip install openai"
      ],
      "metadata": {
        "colab": {
          "base_uri": "https://localhost:8080/"
        },
        "id": "Pkm0ftf8a3bp",
        "outputId": "118d46ab-263c-418b-8ff8-e00dbf31d4e1"
      },
      "execution_count": 1,
      "outputs": [
        {
          "output_type": "stream",
          "name": "stdout",
          "text": [
            "Requirement already satisfied: openai in /usr/local/lib/python3.11/dist-packages (1.99.1)\n",
            "Requirement already satisfied: anyio<5,>=3.5.0 in /usr/local/lib/python3.11/dist-packages (from openai) (4.10.0)\n",
            "Requirement already satisfied: distro<2,>=1.7.0 in /usr/local/lib/python3.11/dist-packages (from openai) (1.9.0)\n",
            "Requirement already satisfied: httpx<1,>=0.23.0 in /usr/local/lib/python3.11/dist-packages (from openai) (0.28.1)\n",
            "Requirement already satisfied: jiter<1,>=0.4.0 in /usr/local/lib/python3.11/dist-packages (from openai) (0.10.0)\n",
            "Requirement already satisfied: pydantic<3,>=1.9.0 in /usr/local/lib/python3.11/dist-packages (from openai) (2.11.7)\n",
            "Requirement already satisfied: sniffio in /usr/local/lib/python3.11/dist-packages (from openai) (1.3.1)\n",
            "Requirement already satisfied: tqdm>4 in /usr/local/lib/python3.11/dist-packages (from openai) (4.67.1)\n",
            "Requirement already satisfied: typing-extensions<5,>=4.11 in /usr/local/lib/python3.11/dist-packages (from openai) (4.14.1)\n",
            "Requirement already satisfied: idna>=2.8 in /usr/local/lib/python3.11/dist-packages (from anyio<5,>=3.5.0->openai) (3.10)\n",
            "Requirement already satisfied: certifi in /usr/local/lib/python3.11/dist-packages (from httpx<1,>=0.23.0->openai) (2025.8.3)\n",
            "Requirement already satisfied: httpcore==1.* in /usr/local/lib/python3.11/dist-packages (from httpx<1,>=0.23.0->openai) (1.0.9)\n",
            "Requirement already satisfied: h11>=0.16 in /usr/local/lib/python3.11/dist-packages (from httpcore==1.*->httpx<1,>=0.23.0->openai) (0.16.0)\n",
            "Requirement already satisfied: annotated-types>=0.6.0 in /usr/local/lib/python3.11/dist-packages (from pydantic<3,>=1.9.0->openai) (0.7.0)\n",
            "Requirement already satisfied: pydantic-core==2.33.2 in /usr/local/lib/python3.11/dist-packages (from pydantic<3,>=1.9.0->openai) (2.33.2)\n",
            "Requirement already satisfied: typing-inspection>=0.4.0 in /usr/local/lib/python3.11/dist-packages (from pydantic<3,>=1.9.0->openai) (0.4.1)\n"
          ]
        }
      ]
    },
    {
      "cell_type": "code",
      "execution_count": 2,
      "metadata": {
        "id": "d1WKREiRTlS-"
      },
      "outputs": [],
      "source": [
        "import re\n",
        "from datetime import datetime\n",
        "from typing import Dict, List\n",
        "from pprint import pprint\n",
        "from openai import OpenAI\n",
        "import os\n",
        "import json"
      ]
    },
    {
      "cell_type": "code",
      "source": [
        "from google.colab import userdata\n",
        "import os\n",
        "from openai import OpenAI\n",
        "\n",
        "# Access the API key from Colab's Secrets Manager\n",
        "client = OpenAI(\n",
        "  api_key=userdata.get('OPENAI_API_KEY')\n",
        ")"
      ],
      "metadata": {
        "id": "RA8U06AKbAc1"
      },
      "execution_count": 3,
      "outputs": []
    },
    {
      "cell_type": "code",
      "source": [
        "SYSTEM_PROMPT = \"\"\"\n",
        "You are a query planner assistant. Your job is to convert natural language questions into structured query plans.\n",
        "\n",
        "Use the following JSON format:\n",
        "{\n",
        "  \"intent\": \"ranking\" | \"trend\" | \"filter\" | \"comparison\",\n",
        "  \"table\": \"sales_data\",\n",
        "  \"filters\": [ { \"field\": ..., \"operator\": ..., \"value\": ... } ],\n",
        "  \"metrics\": [ { \"name\": ..., \"aggregation\": ..., \"alias\": ... } ],\n",
        "  \"group_by\": [...],\n",
        "  \"sort\": [ { \"field\": ..., \"order\": ... } ],\n",
        "  \"limit\": ...,\n",
        "  \"original_user_query\": ...\n",
        "}\n",
        "Only return valid JSON.\n",
        "\"\"\""
      ],
      "metadata": {
        "id": "ojEz1EZ-bKHD"
      },
      "execution_count": 4,
      "outputs": []
    },
    {
      "cell_type": "code",
      "source": [
        "def get_query_plan_with_llm(user_query: str) -> dict:\n",
        "    response = client.chat.completions.create(\n",
        "        model=\"gpt-3.5-turbo\",  # or gpt-3.5-turbo\n",
        "        messages=[\n",
        "            {\"role\": \"system\", \"content\": SYSTEM_PROMPT},\n",
        "            {\"role\": \"user\", \"content\": user_query}\n",
        "        ],\n",
        "        temperature=0.2\n",
        "    )\n",
        "    content = response.choices[0].message.content.strip()\n",
        "\n",
        "    try:\n",
        "        plan = json.loads(content)\n",
        "        return plan\n",
        "    except json.JSONDecodeError:\n",
        "        print(\"❌ Failed to parse LLM output as JSON.\")\n",
        "        print(content)\n",
        "        return {}"
      ],
      "metadata": {
        "id": "yG4u1mljbhO0"
      },
      "execution_count": 5,
      "outputs": []
    },
    {
      "cell_type": "code",
      "source": [
        "user_query = \"Show me the last 15 products with highest sales in March 2024\""
      ],
      "metadata": {
        "id": "FdgyXAk-TxqZ"
      },
      "execution_count": 6,
      "outputs": []
    },
    {
      "cell_type": "code",
      "source": [
        "plan = get_query_plan_with_llm(user_query)\n",
        "\n",
        "from pprint import pprint\n",
        "pprint(plan)"
      ],
      "metadata": {
        "colab": {
          "base_uri": "https://localhost:8080/"
        },
        "id": "7a1ZwmL7bpwy",
        "outputId": "cdf8b974-37af-451e-e907-1edb0dff5b3c"
      },
      "execution_count": 7,
      "outputs": [
        {
          "output_type": "stream",
          "name": "stdout",
          "text": [
            "{'filters': [{'field': 'date',\n",
            "              'operator': 'between',\n",
            "              'value': ['2024-03-01', '2024-03-31']}],\n",
            " 'group_by': ['product'],\n",
            " 'intent': 'ranking',\n",
            " 'limit': 15,\n",
            " 'metrics': [{'aggregation': 'sum', 'alias': 'total_sales', 'name': 'product'}],\n",
            " 'original_user_query': 'Show me the last 15 products with highest sales in '\n",
            "                        'March 2024',\n",
            " 'sort': [{'field': 'total_sales', 'order': 'desc'}],\n",
            " 'table': 'sales_data'}\n"
          ]
        }
      ]
    },
    {
      "cell_type": "code",
      "source": [
        " def extract_query_info(prompt: str) -> Dict:\n",
        "    # Simple intent rules\n",
        "    intent = \"ranking\" if \"top\" in prompt.lower() else \"unknown\"\n",
        "\n",
        "    # Extract limit\n",
        "    match_limit = re.search(r\"top (\\d+)\", prompt.lower())\n",
        "    limit = int(match_limit.group(1)) if match_limit else None\n",
        "\n",
        "    # Extract time range (very simple version)\n",
        "    if \"q2 2024\" in prompt.lower():\n",
        "        start_date = \"2024-04-01\"\n",
        "        end_date = \"2024-06-30\"\n",
        "    else:\n",
        "        start_date, end_date = None, None\n",
        "\n",
        "    return {\n",
        "        \"intent\": intent,\n",
        "        \"limit\": limit,\n",
        "        \"date_range\": [start_date, end_date],\n",
        "        \"metrics\": [\"sales_volume\"],\n",
        "        \"group_by\": [\"product_id\"],\n",
        "        \"table\": \"sales_data\"\n",
        "    }\n",
        "\n",
        "parsed_info = extract_query_info(user_query)\n",
        "pprint(parsed_info)"
      ],
      "metadata": {
        "colab": {
          "base_uri": "https://localhost:8080/"
        },
        "id": "zRQ17U-ST1QE",
        "outputId": "b0de4493-baea-4f61-bd7a-b75ff749cb5b"
      },
      "execution_count": 8,
      "outputs": [
        {
          "output_type": "stream",
          "name": "stdout",
          "text": [
            "{'date_range': [None, None],\n",
            " 'group_by': ['product_id'],\n",
            " 'intent': 'unknown',\n",
            " 'limit': None,\n",
            " 'metrics': ['sales_volume'],\n",
            " 'table': 'sales_data'}\n"
          ]
        }
      ]
    },
    {
      "cell_type": "code",
      "source": [
        "query_plan = {\n",
        "    \"original_user_query\": user_query,\n",
        "    \"intent\": parsed_info[\"intent\"],\n",
        "    \"filters\": [\n",
        "        {\n",
        "            \"field\": \"sale_date\",\n",
        "            \"operator\": \"between\",\n",
        "            \"value\": parsed_info[\"date_range\"]\n",
        "        }\n",
        "    ],\n",
        "    \"metrics\": [\n",
        "        {\n",
        "            \"name\": \"sales_volume\",\n",
        "            \"aggregation\": \"sum\",\n",
        "            \"alias\": \"total_sales\"\n",
        "        }\n",
        "    ],\n",
        "    \"group_by\": parsed_info[\"group_by\"],\n",
        "    \"sort\": [\n",
        "        {\n",
        "            \"field\": \"total_sales\",\n",
        "            \"order\": \"desc\"\n",
        "        }\n",
        "    ],\n",
        "    \"limit\": parsed_info[\"limit\"],\n",
        "    \"table\": parsed_info[\"table\"]\n",
        "}\n",
        "\n",
        "pprint(query_plan)\n"
      ],
      "metadata": {
        "colab": {
          "base_uri": "https://localhost:8080/"
        },
        "id": "X8Ja4qLfT4eQ",
        "outputId": "5add03ac-8c1c-4f10-a1f8-bbb8dd16d708"
      },
      "execution_count": 9,
      "outputs": [
        {
          "output_type": "stream",
          "name": "stdout",
          "text": [
            "{'filters': [{'field': 'sale_date',\n",
            "              'operator': 'between',\n",
            "              'value': [None, None]}],\n",
            " 'group_by': ['product_id'],\n",
            " 'intent': 'unknown',\n",
            " 'limit': None,\n",
            " 'metrics': [{'aggregation': 'sum',\n",
            "              'alias': 'total_sales',\n",
            "              'name': 'sales_volume'}],\n",
            " 'original_user_query': 'Show me the last 15 products with highest sales in '\n",
            "                        'March 2024',\n",
            " 'sort': [{'field': 'total_sales', 'order': 'desc'}],\n",
            " 'table': 'sales_data'}\n"
          ]
        }
      ]
    },
    {
      "cell_type": "code",
      "source": [
        "def build_sql(plan: Dict) -> str:\n",
        "    metric = plan[\"metrics\"][0]\n",
        "    date_start, date_end = plan[\"filters\"][0][\"value\"]\n",
        "    sql = f\"\"\"\n",
        "    SELECT {plan['group_by'][0]}, SUM({metric['name']}) AS {metric['alias']}\n",
        "    FROM {plan['table']}\n",
        "    WHERE sale_date BETWEEN '{date_start}' AND '{date_end}'\n",
        "    GROUP BY {plan['group_by'][0]}\n",
        "    ORDER BY {metric['alias']} DESC\n",
        "    LIMIT {plan['limit']};\n",
        "    \"\"\".strip()\n",
        "    return sql\n",
        "\n",
        "print(build_sql(query_plan))\n"
      ],
      "metadata": {
        "colab": {
          "base_uri": "https://localhost:8080/"
        },
        "id": "1XcIBLhjW_Z-",
        "outputId": "433312e1-6c98-44a7-b78e-0bb0f63ac8ad"
      },
      "execution_count": 10,
      "outputs": [
        {
          "output_type": "stream",
          "name": "stdout",
          "text": [
            "SELECT product_id, SUM(sales_volume) AS total_sales\n",
            "    FROM sales_data\n",
            "    WHERE sale_date BETWEEN 'None' AND 'None'\n",
            "    GROUP BY product_id\n",
            "    ORDER BY total_sales DESC\n",
            "    LIMIT None;\n"
          ]
        }
      ]
    },
    {
      "cell_type": "code",
      "source": [],
      "metadata": {
        "id": "MP9oCRMpEJon"
      },
      "execution_count": 10,
      "outputs": []
    }
  ]
}